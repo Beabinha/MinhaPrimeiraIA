{
  "cells": [
    {
      "cell_type": "markdown",
      "metadata": {
        "id": "view-in-github",
        "colab_type": "text"
      },
      "source": [
        "<a href=\"https://colab.research.google.com/github/Beabinha/MinhaPrimeiraIA/blob/main/oficina_pytorch.ipynb\" target=\"_parent\"><img src=\"https://colab.research.google.com/assets/colab-badge.svg\" alt=\"Open In Colab\"/></a>"
      ]
    },
    {
      "cell_type": "markdown",
      "metadata": {
        "id": "Pym8S8Oq88Hm"
      },
      "source": [
        "# Estudando o primeiro exemplo do Pytorch do Inovisão"
      ]
    },
    {
      "cell_type": "markdown",
      "source": [
        "## Executando código"
      ],
      "metadata": {
        "id": "t56N0evDRMm9"
      }
    },
    {
      "cell_type": "markdown",
      "metadata": {
        "id": "nsDBO7SP92v0"
      },
      "source": [
        "### Importando as bibliotecas e instalando nvidia\n"
      ]
    },
    {
      "cell_type": "code",
      "source": [
        "!nvidia-smi"
      ],
      "metadata": {
        "colab": {
          "base_uri": "https://localhost:8080/"
        },
        "id": "7kckERnYltsC",
        "outputId": "e3f88d5d-cd01-486e-aa6e-c52083431a36"
      },
      "execution_count": null,
      "outputs": [
        {
          "output_type": "stream",
          "name": "stdout",
          "text": [
            "Sun May 28 02:01:16 2023       \n",
            "+-----------------------------------------------------------------------------+\n",
            "| NVIDIA-SMI 525.85.12    Driver Version: 525.85.12    CUDA Version: 12.0     |\n",
            "|-------------------------------+----------------------+----------------------+\n",
            "| GPU  Name        Persistence-M| Bus-Id        Disp.A | Volatile Uncorr. ECC |\n",
            "| Fan  Temp  Perf  Pwr:Usage/Cap|         Memory-Usage | GPU-Util  Compute M. |\n",
            "|                               |                      |               MIG M. |\n",
            "|===============================+======================+======================|\n",
            "|   0  Tesla T4            Off  | 00000000:00:04.0 Off |                    0 |\n",
            "| N/A   44C    P8     9W /  70W |      0MiB / 15360MiB |      0%      Default |\n",
            "|                               |                      |                  N/A |\n",
            "+-------------------------------+----------------------+----------------------+\n",
            "                                                                               \n",
            "+-----------------------------------------------------------------------------+\n",
            "| Processes:                                                                  |\n",
            "|  GPU   GI   CI        PID   Type   Process name                  GPU Memory |\n",
            "|        ID   ID                                                   Usage      |\n",
            "|=============================================================================|\n",
            "|  No running processes found                                                 |\n",
            "+-----------------------------------------------------------------------------+\n"
          ]
        }
      ]
    },
    {
      "cell_type": "code",
      "source": [
        "!pip install torchinfo"
      ],
      "metadata": {
        "colab": {
          "base_uri": "https://localhost:8080/"
        },
        "id": "nsM4ZwqyZ9u5",
        "outputId": "49596482-0edd-4f3f-c43a-8de9e442e897"
      },
      "execution_count": null,
      "outputs": [
        {
          "output_type": "stream",
          "name": "stdout",
          "text": [
            "Looking in indexes: https://pypi.org/simple, https://us-python.pkg.dev/colab-wheels/public/simple/\n",
            "Collecting torchinfo\n",
            "  Downloading torchinfo-1.8.0-py3-none-any.whl (23 kB)\n",
            "Installing collected packages: torchinfo\n",
            "Successfully installed torchinfo-1.8.0\n"
          ]
        }
      ]
    },
    {
      "cell_type": "code",
      "execution_count": null,
      "metadata": {
        "id": "8cf1Ae8F8uIZ"
      },
      "outputs": [],
      "source": [
        "import matplotlib.pyplot as plt\n",
        "import torchinfo\n",
        "\n",
        "#from IPython.core.interactiveshell import Module\n",
        "\n",
        "import torch\n",
        "from torch import nn\n",
        "from torch.utils.data import DataLoader\n",
        "from torchvision import datasets\n",
        "from torchvision.transforms import ToTensor, Resize, Compose"
      ]
    },
    {
      "cell_type": "markdown",
      "metadata": {
        "id": "_-GkRSXOBUYP"
      },
      "source": [
        "### Hiperparâmetros e constantes"
      ]
    },
    {
      "cell_type": "code",
      "execution_count": null,
      "metadata": {
        "id": "LQ9XUVwMBeSe"
      },
      "outputs": [],
      "source": [
        "TAMANHO_DA_IMAGEM = 28\n",
        "TAMANHO_DO_LOTE = 64\n",
        "EPOCAS = 10\n",
        "TAXA_DE_APRENDIZAGEM = 0.001"
      ]
    },
    {
      "cell_type": "markdown",
      "metadata": {
        "id": "FIkXA_fL_ftF"
      },
      "source": [
        "### Vendo os dados"
      ]
    },
    {
      "cell_type": "code",
      "execution_count": null,
      "metadata": {
        "id": "WCEb0BoU_n3X"
      },
      "outputs": [],
      "source": [
        "transform = Compose([\n",
        "    ToTensor(),\n",
        "    Resize((TAMANHO_DA_IMAGEM, TAMANHO_DA_IMAGEM))\n",
        "])"
      ]
    },
    {
      "cell_type": "markdown",
      "source": [
        "### Treinamento"
      ],
      "metadata": {
        "id": "qVya09RvJMsR"
      }
    },
    {
      "cell_type": "code",
      "execution_count": null,
      "metadata": {
        "id": "7IJ5T7z9-DPV",
        "colab": {
          "base_uri": "https://localhost:8080/"
        },
        "outputId": "f63d78b1-f398-4f21-d012-08bdf40f28f4"
      },
      "outputs": [
        {
          "output_type": "stream",
          "name": "stdout",
          "text": [
            "Downloading http://fashion-mnist.s3-website.eu-central-1.amazonaws.com/train-images-idx3-ubyte.gz\n",
            "Downloading http://fashion-mnist.s3-website.eu-central-1.amazonaws.com/train-images-idx3-ubyte.gz to data/FashionMNIST/raw/train-images-idx3-ubyte.gz\n"
          ]
        },
        {
          "output_type": "stream",
          "name": "stderr",
          "text": [
            "100%|██████████| 26421880/26421880 [00:03<00:00, 8509306.60it/s] \n"
          ]
        },
        {
          "output_type": "stream",
          "name": "stdout",
          "text": [
            "Extracting data/FashionMNIST/raw/train-images-idx3-ubyte.gz to data/FashionMNIST/raw\n",
            "\n",
            "Downloading http://fashion-mnist.s3-website.eu-central-1.amazonaws.com/train-labels-idx1-ubyte.gz\n",
            "Downloading http://fashion-mnist.s3-website.eu-central-1.amazonaws.com/train-labels-idx1-ubyte.gz to data/FashionMNIST/raw/train-labels-idx1-ubyte.gz\n"
          ]
        },
        {
          "output_type": "stream",
          "name": "stderr",
          "text": [
            "100%|██████████| 29515/29515 [00:00<00:00, 138395.78it/s]\n"
          ]
        },
        {
          "output_type": "stream",
          "name": "stdout",
          "text": [
            "Extracting data/FashionMNIST/raw/train-labels-idx1-ubyte.gz to data/FashionMNIST/raw\n",
            "\n",
            "Downloading http://fashion-mnist.s3-website.eu-central-1.amazonaws.com/t10k-images-idx3-ubyte.gz\n",
            "Downloading http://fashion-mnist.s3-website.eu-central-1.amazonaws.com/t10k-images-idx3-ubyte.gz to data/FashionMNIST/raw/t10k-images-idx3-ubyte.gz\n"
          ]
        },
        {
          "output_type": "stream",
          "name": "stderr",
          "text": [
            "100%|██████████| 4422102/4422102 [00:01<00:00, 2647600.39it/s]\n"
          ]
        },
        {
          "output_type": "stream",
          "name": "stdout",
          "text": [
            "Extracting data/FashionMNIST/raw/t10k-images-idx3-ubyte.gz to data/FashionMNIST/raw\n",
            "\n",
            "Downloading http://fashion-mnist.s3-website.eu-central-1.amazonaws.com/t10k-labels-idx1-ubyte.gz\n",
            "Downloading http://fashion-mnist.s3-website.eu-central-1.amazonaws.com/t10k-labels-idx1-ubyte.gz to data/FashionMNIST/raw/t10k-labels-idx1-ubyte.gz\n"
          ]
        },
        {
          "output_type": "stream",
          "name": "stderr",
          "text": [
            "100%|██████████| 5148/5148 [00:00<00:00, 21506251.98it/s]"
          ]
        },
        {
          "output_type": "stream",
          "name": "stdout",
          "text": [
            "Extracting data/FashionMNIST/raw/t10k-labels-idx1-ubyte.gz to data/FashionMNIST/raw\n",
            "\n"
          ]
        },
        {
          "output_type": "stream",
          "name": "stderr",
          "text": [
            "\n"
          ]
        }
      ],
      "source": [
        "training_data = datasets.FashionMNIST(\n",
        "    root=\"data\",\n",
        "    train=True,\n",
        "    download=True,\n",
        "    transform=transform\n",
        ")"
      ]
    },
    {
      "cell_type": "code",
      "execution_count": null,
      "metadata": {
        "colab": {
          "base_uri": "https://localhost:8080/"
        },
        "id": "VXc-5VW8C44f",
        "outputId": "ee832fd5-21f3-4489-d1fe-0bf8634ab593"
      },
      "outputs": [
        {
          "output_type": "stream",
          "name": "stderr",
          "text": [
            "/usr/local/lib/python3.10/dist-packages/torchvision/transforms/functional.py:1603: UserWarning: The default value of the antialias parameter of all the resizing transforms (Resize(), RandomResizedCrop(), etc.) will change from None to True in v0.17, in order to be consistent across the PIL and Tensor backends. To suppress this warning, directly pass antialias=True (recommended, future default), antialias=None (current default, which means False for Tensors and True for PIL), or antialias=False (only works on Tensors - PIL will still use antialiasing). This also applies if you are using the inference transforms from the models weights: update the call to weights.transforms(antialias=True).\n",
            "  warnings.warn(\n"
          ]
        },
        {
          "output_type": "stream",
          "name": "stdout",
          "text": [
            "Primeiro item da dataset: (tensor([[[0.0000, 0.0000, 0.0000, 0.0000, 0.0000, 0.0000, 0.0000, 0.0000,\n",
            "          0.0000, 0.0000, 0.0000, 0.0000, 0.0000, 0.0000, 0.0000, 0.0000,\n",
            "          0.0000, 0.0000, 0.0000, 0.0000, 0.0000, 0.0000, 0.0000, 0.0000,\n",
            "          0.0000, 0.0000, 0.0000, 0.0000],\n",
            "         [0.0000, 0.0000, 0.0000, 0.0000, 0.0000, 0.0000, 0.0000, 0.0000,\n",
            "          0.0000, 0.0000, 0.0000, 0.0000, 0.0000, 0.0000, 0.0000, 0.0000,\n",
            "          0.0000, 0.0000, 0.0000, 0.0000, 0.0000, 0.0000, 0.0000, 0.0000,\n",
            "          0.0000, 0.0000, 0.0000, 0.0000],\n",
            "         [0.0000, 0.0000, 0.0000, 0.0000, 0.0000, 0.0000, 0.0000, 0.0000,\n",
            "          0.0000, 0.0000, 0.0000, 0.0000, 0.0000, 0.0000, 0.0000, 0.0000,\n",
            "          0.0000, 0.0000, 0.0000, 0.0000, 0.0000, 0.0000, 0.0000, 0.0000,\n",
            "          0.0000, 0.0000, 0.0000, 0.0000],\n",
            "         [0.0000, 0.0000, 0.0000, 0.0000, 0.0000, 0.0000, 0.0000, 0.0000,\n",
            "          0.0000, 0.0000, 0.0000, 0.0000, 0.0039, 0.0000, 0.0000, 0.0510,\n",
            "          0.2863, 0.0000, 0.0000, 0.0039, 0.0157, 0.0000, 0.0000, 0.0000,\n",
            "          0.0000, 0.0039, 0.0039, 0.0000],\n",
            "         [0.0000, 0.0000, 0.0000, 0.0000, 0.0000, 0.0000, 0.0000, 0.0000,\n",
            "          0.0000, 0.0000, 0.0000, 0.0000, 0.0118, 0.0000, 0.1412, 0.5333,\n",
            "          0.4980, 0.2431, 0.2118, 0.0000, 0.0000, 0.0000, 0.0039, 0.0118,\n",
            "          0.0157, 0.0000, 0.0000, 0.0118],\n",
            "         [0.0000, 0.0000, 0.0000, 0.0000, 0.0000, 0.0000, 0.0000, 0.0000,\n",
            "          0.0000, 0.0000, 0.0000, 0.0000, 0.0235, 0.0000, 0.4000, 0.8000,\n",
            "          0.6902, 0.5255, 0.5647, 0.4824, 0.0902, 0.0000, 0.0000, 0.0000,\n",
            "          0.0000, 0.0471, 0.0392, 0.0000],\n",
            "         [0.0000, 0.0000, 0.0000, 0.0000, 0.0000, 0.0000, 0.0000, 0.0000,\n",
            "          0.0000, 0.0000, 0.0000, 0.0000, 0.0000, 0.0000, 0.6078, 0.9255,\n",
            "          0.8118, 0.6980, 0.4196, 0.6118, 0.6314, 0.4275, 0.2510, 0.0902,\n",
            "          0.3020, 0.5098, 0.2824, 0.0588],\n",
            "         [0.0000, 0.0000, 0.0000, 0.0000, 0.0000, 0.0000, 0.0000, 0.0000,\n",
            "          0.0000, 0.0000, 0.0000, 0.0039, 0.0000, 0.2706, 0.8118, 0.8745,\n",
            "          0.8549, 0.8471, 0.8471, 0.6392, 0.4980, 0.4745, 0.4784, 0.5725,\n",
            "          0.5529, 0.3451, 0.6745, 0.2588],\n",
            "         [0.0000, 0.0000, 0.0000, 0.0000, 0.0000, 0.0000, 0.0000, 0.0000,\n",
            "          0.0000, 0.0039, 0.0039, 0.0039, 0.0000, 0.7843, 0.9098, 0.9098,\n",
            "          0.9137, 0.8980, 0.8745, 0.8745, 0.8431, 0.8353, 0.6431, 0.4980,\n",
            "          0.4824, 0.7686, 0.8980, 0.0000],\n",
            "         [0.0000, 0.0000, 0.0000, 0.0000, 0.0000, 0.0000, 0.0000, 0.0000,\n",
            "          0.0000, 0.0000, 0.0000, 0.0000, 0.0000, 0.7176, 0.8824, 0.8471,\n",
            "          0.8745, 0.8941, 0.9216, 0.8902, 0.8784, 0.8706, 0.8784, 0.8667,\n",
            "          0.8745, 0.9608, 0.6784, 0.0000],\n",
            "         [0.0000, 0.0000, 0.0000, 0.0000, 0.0000, 0.0000, 0.0000, 0.0000,\n",
            "          0.0000, 0.0000, 0.0000, 0.0000, 0.0000, 0.7569, 0.8941, 0.8549,\n",
            "          0.8353, 0.7765, 0.7059, 0.8314, 0.8235, 0.8275, 0.8353, 0.8745,\n",
            "          0.8627, 0.9529, 0.7922, 0.0000],\n",
            "         [0.0000, 0.0000, 0.0000, 0.0000, 0.0000, 0.0000, 0.0000, 0.0000,\n",
            "          0.0000, 0.0039, 0.0118, 0.0000, 0.0471, 0.8588, 0.8627, 0.8314,\n",
            "          0.8549, 0.7529, 0.6627, 0.8902, 0.8157, 0.8549, 0.8784, 0.8314,\n",
            "          0.8863, 0.7725, 0.8196, 0.2039],\n",
            "         [0.0000, 0.0000, 0.0000, 0.0000, 0.0000, 0.0000, 0.0000, 0.0000,\n",
            "          0.0000, 0.0000, 0.0235, 0.0000, 0.3882, 0.9569, 0.8706, 0.8627,\n",
            "          0.8549, 0.7961, 0.7765, 0.8667, 0.8431, 0.8353, 0.8706, 0.8627,\n",
            "          0.9608, 0.4667, 0.6549, 0.2196],\n",
            "         [0.0000, 0.0000, 0.0000, 0.0000, 0.0000, 0.0000, 0.0000, 0.0000,\n",
            "          0.0000, 0.0157, 0.0000, 0.0000, 0.2157, 0.9255, 0.8941, 0.9020,\n",
            "          0.8941, 0.9412, 0.9098, 0.8353, 0.8549, 0.8745, 0.9176, 0.8510,\n",
            "          0.8510, 0.8196, 0.3608, 0.0000],\n",
            "         [0.0000, 0.0000, 0.0039, 0.0157, 0.0235, 0.0275, 0.0078, 0.0000,\n",
            "          0.0000, 0.0000, 0.0000, 0.0000, 0.9294, 0.8863, 0.8510, 0.8745,\n",
            "          0.8706, 0.8588, 0.8706, 0.8667, 0.8471, 0.8745, 0.8980, 0.8431,\n",
            "          0.8549, 1.0000, 0.3020, 0.0000],\n",
            "         [0.0000, 0.0118, 0.0000, 0.0000, 0.0000, 0.0000, 0.0000, 0.0000,\n",
            "          0.0000, 0.2431, 0.5686, 0.8000, 0.8941, 0.8118, 0.8353, 0.8667,\n",
            "          0.8549, 0.8157, 0.8275, 0.8549, 0.8784, 0.8745, 0.8588, 0.8431,\n",
            "          0.8784, 0.9569, 0.6235, 0.0000],\n",
            "         [0.0000, 0.0000, 0.0000, 0.0000, 0.0706, 0.1725, 0.3216, 0.4196,\n",
            "          0.7412, 0.8941, 0.8627, 0.8706, 0.8510, 0.8863, 0.7843, 0.8039,\n",
            "          0.8275, 0.9020, 0.8784, 0.9176, 0.6902, 0.7373, 0.9804, 0.9725,\n",
            "          0.9137, 0.9333, 0.8431, 0.0000],\n",
            "         [0.0000, 0.2235, 0.7333, 0.8157, 0.8784, 0.8667, 0.8784, 0.8157,\n",
            "          0.8000, 0.8392, 0.8157, 0.8196, 0.7843, 0.6235, 0.9608, 0.7569,\n",
            "          0.8078, 0.8745, 1.0000, 1.0000, 0.8667, 0.9176, 0.8667, 0.8275,\n",
            "          0.8627, 0.9098, 0.9647, 0.0000],\n",
            "         [0.0118, 0.7922, 0.8941, 0.8784, 0.8667, 0.8275, 0.8275, 0.8392,\n",
            "          0.8039, 0.8039, 0.8039, 0.8627, 0.9412, 0.3137, 0.5882, 1.0000,\n",
            "          0.8980, 0.8667, 0.7373, 0.6039, 0.7490, 0.8235, 0.8000, 0.8196,\n",
            "          0.8706, 0.8941, 0.8824, 0.0000],\n",
            "         [0.3843, 0.9137, 0.7765, 0.8235, 0.8706, 0.8980, 0.8980, 0.9176,\n",
            "          0.9765, 0.8627, 0.7608, 0.8431, 0.8510, 0.9451, 0.2549, 0.2863,\n",
            "          0.4157, 0.4588, 0.6588, 0.8588, 0.8667, 0.8431, 0.8510, 0.8745,\n",
            "          0.8745, 0.8784, 0.8980, 0.1137],\n",
            "         [0.2941, 0.8000, 0.8314, 0.8000, 0.7569, 0.8039, 0.8275, 0.8824,\n",
            "          0.8471, 0.7255, 0.7725, 0.8078, 0.7765, 0.8353, 0.9412, 0.7647,\n",
            "          0.8902, 0.9608, 0.9373, 0.8745, 0.8549, 0.8314, 0.8196, 0.8706,\n",
            "          0.8627, 0.8667, 0.9020, 0.2627],\n",
            "         [0.1882, 0.7961, 0.7176, 0.7608, 0.8353, 0.7725, 0.7255, 0.7451,\n",
            "          0.7608, 0.7529, 0.7922, 0.8392, 0.8588, 0.8667, 0.8627, 0.9255,\n",
            "          0.8824, 0.8471, 0.7804, 0.8078, 0.7294, 0.7098, 0.6941, 0.6745,\n",
            "          0.7098, 0.8039, 0.8078, 0.4510],\n",
            "         [0.0000, 0.4784, 0.8588, 0.7569, 0.7020, 0.6706, 0.7176, 0.7686,\n",
            "          0.8000, 0.8235, 0.8353, 0.8118, 0.8275, 0.8235, 0.7843, 0.7686,\n",
            "          0.7608, 0.7490, 0.7647, 0.7490, 0.7765, 0.7529, 0.6902, 0.6118,\n",
            "          0.6549, 0.6941, 0.8235, 0.3608],\n",
            "         [0.0000, 0.0000, 0.2902, 0.7412, 0.8314, 0.7490, 0.6863, 0.6745,\n",
            "          0.6863, 0.7098, 0.7255, 0.7373, 0.7412, 0.7373, 0.7569, 0.7765,\n",
            "          0.8000, 0.8196, 0.8235, 0.8235, 0.8275, 0.7373, 0.7373, 0.7608,\n",
            "          0.7529, 0.8471, 0.6667, 0.0000],\n",
            "         [0.0078, 0.0000, 0.0000, 0.0000, 0.2588, 0.7843, 0.8706, 0.9294,\n",
            "          0.9373, 0.9490, 0.9647, 0.9529, 0.9569, 0.8667, 0.8627, 0.7569,\n",
            "          0.7490, 0.7020, 0.7137, 0.7137, 0.7098, 0.6902, 0.6510, 0.6588,\n",
            "          0.3882, 0.2275, 0.0000, 0.0000],\n",
            "         [0.0000, 0.0000, 0.0000, 0.0000, 0.0000, 0.0000, 0.0000, 0.1569,\n",
            "          0.2392, 0.1725, 0.2824, 0.1608, 0.1373, 0.0000, 0.0000, 0.0000,\n",
            "          0.0000, 0.0000, 0.0000, 0.0000, 0.0000, 0.0000, 0.0000, 0.0000,\n",
            "          0.0000, 0.0000, 0.0000, 0.0000],\n",
            "         [0.0000, 0.0000, 0.0000, 0.0000, 0.0000, 0.0000, 0.0000, 0.0000,\n",
            "          0.0000, 0.0000, 0.0000, 0.0000, 0.0000, 0.0000, 0.0000, 0.0000,\n",
            "          0.0000, 0.0000, 0.0000, 0.0000, 0.0000, 0.0000, 0.0000, 0.0000,\n",
            "          0.0000, 0.0000, 0.0000, 0.0000],\n",
            "         [0.0000, 0.0000, 0.0000, 0.0000, 0.0000, 0.0000, 0.0000, 0.0000,\n",
            "          0.0000, 0.0000, 0.0000, 0.0000, 0.0000, 0.0000, 0.0000, 0.0000,\n",
            "          0.0000, 0.0000, 0.0000, 0.0000, 0.0000, 0.0000, 0.0000, 0.0000,\n",
            "          0.0000, 0.0000, 0.0000, 0.0000]]]), 9)\n"
          ]
        }
      ],
      "source": [
        "print(\"Primeiro item da dataset:\", training_data[0])"
      ]
    },
    {
      "cell_type": "code",
      "execution_count": null,
      "metadata": {
        "id": "SfkiyoBLDe4a"
      },
      "outputs": [],
      "source": [
        "train_dataloader = DataLoader(training_data, batch_size=TAMANHO_DO_LOTE)"
      ]
    },
    {
      "cell_type": "code",
      "execution_count": null,
      "metadata": {
        "colab": {
          "base_uri": "https://localhost:8080/"
        },
        "id": "3NXh5uqhEaoA",
        "outputId": "a538242b-d4e7-43e3-add7-e6048c5f4665"
      },
      "outputs": [
        {
          "output_type": "stream",
          "name": "stdout",
          "text": [
            "Formato de tensor de imagens: torch.Size([64, 1, 28, 28])\n",
            "Formato de tensor de anotações: torch.Size([64])\n"
          ]
        }
      ],
      "source": [
        "for imagens, anotacoes in train_dataloader:\n",
        "  print(\"Formato de tensor de imagens:\", imagens.shape)\n",
        "  print(\"Formato de tensor de anotações:\",anotacoes.shape)\n",
        "  break"
      ]
    },
    {
      "cell_type": "code",
      "execution_count": null,
      "metadata": {
        "colab": {
          "base_uri": "https://localhost:8080/"
        },
        "id": "Ikvy76jnFABI",
        "outputId": "4cd739f6-b4eb-4871-807e-1f2141468bbf"
      },
      "outputs": [
        {
          "output_type": "stream",
          "name": "stdout",
          "text": [
            "Classes: ['T-shirt/top', 'Trouser', 'Pullover', 'Dress', 'Coat', 'Sandal', 'Shirt', 'Sneaker', 'Bag', 'Ankle boot']\n"
          ]
        }
      ],
      "source": [
        "print(\"Classes:\",train_dataloader.dataset.classes)"
      ]
    },
    {
      "cell_type": "code",
      "execution_count": null,
      "metadata": {
        "colab": {
          "base_uri": "https://localhost:8080/"
        },
        "id": "nK1o-6TsFPJH",
        "outputId": "ec4b45c5-5a07-4ef9-e15a-1170ac9975ae"
      },
      "outputs": [
        {
          "output_type": "stream",
          "name": "stdout",
          "text": [
            "Tamanho do lote de imagens:64*\n",
            "Quantidade de canais:1\n",
            "Altura de cada imagem:28\n",
            "Largura de cada imagem:28\n",
            "Tamanho de cada lote de anotações:64\n",
            "Tipo de cada anotações:torch.int64\n"
          ]
        }
      ],
      "source": [
        "for imagens,anotacoes in train_dataloader:\n",
        "  print(f\"Tamanho do lote de imagens:{imagens.shape[0]}*\")\n",
        "  print(f\"Quantidade de canais:{imagens.shape[1]}\")\n",
        "  print(f\"Altura de cada imagem:{imagens.shape[2]}\")\n",
        "  print(f\"Largura de cada imagem:{imagens.shape[3]}\")\n",
        "  print(f\"Tamanho de cada lote de anotações:{anotacoes.shape[0]}\")\n",
        "  print(f\"Tipo de cada anotações:{anotacoes.dtype}\")\n",
        "  break"
      ]
    },
    {
      "cell_type": "markdown",
      "source": [
        " ### Validação"
      ],
      "metadata": {
        "id": "chnuETn4I6Fq"
      }
    },
    {
      "cell_type": "code",
      "execution_count": null,
      "metadata": {
        "id": "9wxPsHqAFO3v"
      },
      "outputs": [],
      "source": [
        "validar_data = datasets.FashionMNIST(\n",
        "    root=\"data\",\n",
        "    train=False,\n",
        "    download=True,\n",
        "    transform=transform\n",
        ")"
      ]
    },
    {
      "cell_type": "code",
      "source": [
        "# print(\"Primeiro item da dataset de validação:\", validar_data[0])"
      ],
      "metadata": {
        "id": "pLAcvDcFJpH0"
      },
      "execution_count": null,
      "outputs": []
    },
    {
      "cell_type": "code",
      "source": [
        "validar_dataloader = DataLoader(validar_data, batch_size=TAMANHO_DO_LOTE)"
      ],
      "metadata": {
        "id": "dkojWvdtKQsy"
      },
      "execution_count": null,
      "outputs": []
    },
    {
      "cell_type": "code",
      "source": [
        "print(f\"Total de imagens de treinamento: {len(training_data)}\")\n",
        "print(f\"Total de imagens de validação: {len(validar_data)}\")"
      ],
      "metadata": {
        "colab": {
          "base_uri": "https://localhost:8080/"
        },
        "id": "sCUJpzF8K3GS",
        "outputId": "bca0e058-8135-4459-a2cb-b10e15bc2e64"
      },
      "execution_count": null,
      "outputs": [
        {
          "output_type": "stream",
          "name": "stdout",
          "text": [
            "Total de imagens de treinamento: 60000\n",
            "Total de imagens de validação: 10000\n"
          ]
        }
      ]
    },
    {
      "cell_type": "markdown",
      "source": [
        "## Mostrando algumas imagens\n"
      ],
      "metadata": {
        "id": "-lVGfbmJLHG8"
      }
    },
    {
      "cell_type": "code",
      "source": [
        "train_dataloader.dataset.class_to_idx.items()"
      ],
      "metadata": {
        "colab": {
          "base_uri": "https://localhost:8080/"
        },
        "id": "uKhvocdULMJa",
        "outputId": "cf0cedcc-c6b7-459b-b9c6-4b52c7d0ca36"
      },
      "execution_count": null,
      "outputs": [
        {
          "output_type": "execute_result",
          "data": {
            "text/plain": [
              "dict_items([('T-shirt/top', 0), ('Trouser', 1), ('Pullover', 2), ('Dress', 3), ('Coat', 4), ('Sandal', 5), ('Shirt', 6), ('Sneaker', 7), ('Bag', 8), ('Ankle boot', 9)])"
            ]
          },
          "metadata": {},
          "execution_count": 16
        }
      ]
    },
    {
      "cell_type": "code",
      "source": [
        "#labels_map = {v:k for k, v in train_dataloader.dataset.class_to_idx.items}\n",
        "#print(f\"Conteudo de labels_map: {labels_map}\")\n",
        "\n",
        "labels_map = {\n",
        "    0: \"Camiseta\",\n",
        "    1: \"Calças\",\n",
        "    2: \"Pulover\",\n",
        "    3: \"Vestido\",\n",
        "    4: \"Casaco\",\n",
        "    5: \"Sandalia\",\n",
        "    6: \"Camisa\",\n",
        "    7: \"Tênis\",\n",
        "    8: \"Bolsa\",\n",
        "    9: \"Bota de tornozelo\"\n",
        "}\n",
        "print(f\"Conteudo do labels_map: {labels_map}\")"
      ],
      "metadata": {
        "colab": {
          "base_uri": "https://localhost:8080/"
        },
        "id": "mUUR0S4gLSxv",
        "outputId": "abfea68e-ca9a-483c-ef16-0d9fc232d5f3"
      },
      "execution_count": null,
      "outputs": [
        {
          "output_type": "stream",
          "name": "stdout",
          "text": [
            "Conteudo do labels_map: {0: 'Camiseta', 1: 'Calças', 2: 'Pulover', 3: 'Vestido', 4: 'Casaco', 5: 'Sandalia', 6: 'Camisa', 7: 'Tênis', 8: 'Bolsa', 9: 'Bota de tornozelo'}\n"
          ]
        }
      ]
    },
    {
      "cell_type": "code",
      "source": [
        "figure = plt.figure(figsize=(8,8))\n",
        "cols, rows = 3,3\n",
        "for i in range(1, cols*rows + 1):\n",
        "  sample_idx = torch.randint(len(training_data),size = [1, ]).item()\n",
        "  img, label = training_data[sample_idx]\n",
        "  figure.add_subplot(rows, cols, i)\n",
        "  plt.title(labels_map[label])\n",
        "  plt.axis(\"off\")\n",
        "  plt.imshow(img.squeeze(),cmap=\"gray\")"
      ],
      "metadata": {
        "colab": {
          "base_uri": "https://localhost:8080/",
          "height": 675
        },
        "id": "biZiwm1AM9yL",
        "outputId": "cf20ad45-f312-4d13-dfda-f4ca7f6572c4"
      },
      "execution_count": null,
      "outputs": [
        {
          "output_type": "display_data",
          "data": {
            "text/plain": [
              "<Figure size 800x800 with 9 Axes>"
            ],
            "image/png": "[encoded data removed]"
          },
          "metadata": {}
        }
      ]
    },
    {
      "cell_type": "markdown",
      "source": [
        "## Definindo uma rede neural"
      ],
      "metadata": {
        "id": "TGIrgDCAVcWQ"
      }
    },
    {
      "cell_type": "markdown",
      "source": [
        "### Criando classe Neural"
      ],
      "metadata": {
        "id": "o1FO9fQtZOWp"
      }
    },
    {
      "cell_type": "code",
      "source": [
        "class NeuralNetwork(nn.Module):\n",
        "  def __init__(self):\n",
        "    super(NeuralNetwork,self).__init__()\n",
        "\n",
        "    self.flatten = nn.Flatten()\n",
        "    self.linear_relu_stack = nn.Sequential(\n",
        "        nn.Linear(TAMANHO_DA_IMAGEM * TAMANHO_DA_IMAGEM, 512),\n",
        "        nn.ReLU(),\n",
        "        nn.Linear(512,512),\n",
        "        nn.ReLU(),\n",
        "        nn.Linear(512,10)\n",
        "    )\n",
        "  def forward(self, X):\n",
        "    flattened = self.flatten(X)\n",
        "    output_values = self.linear_relu_stack(flattened)\n",
        "    return output_values\n"
      ],
      "metadata": {
        "id": "KagTA31xVgG-"
      },
      "execution_count": null,
      "outputs": []
    },
    {
      "cell_type": "markdown",
      "source": [
        "### Modelo Neural"
      ],
      "metadata": {
        "id": "FFkk-l-iZW3o"
      }
    },
    {
      "cell_type": "code",
      "source": [
        "model = NeuralNetwork()\n",
        "print(model)"
      ],
      "metadata": {
        "colab": {
          "base_uri": "https://localhost:8080/"
        },
        "id": "D28eprSiX0CI",
        "outputId": "49298eab-b910-4b3c-bc33-2daba79e9546"
      },
      "execution_count": null,
      "outputs": [
        {
          "output_type": "stream",
          "name": "stdout",
          "text": [
            "NeuralNetwork(\n",
            "  (flatten): Flatten(start_dim=1, end_dim=-1)\n",
            "  (linear_relu_stack): Sequential(\n",
            "    (0): Linear(in_features=784, out_features=512, bias=True)\n",
            "    (1): ReLU()\n",
            "    (2): Linear(in_features=512, out_features=512, bias=True)\n",
            "    (3): ReLU()\n",
            "    (4): Linear(in_features=512, out_features=10, bias=True)\n",
            "  )\n",
            ")\n"
          ]
        }
      ]
    },
    {
      "cell_type": "code",
      "source": [
        "torchinfo.summary(model, input_size=(64,1,28,28))"
      ],
      "metadata": {
        "colab": {
          "base_uri": "https://localhost:8080/"
        },
        "id": "naLQxoZBaOqR",
        "outputId": "c36ffda0-2b70-4858-8afe-53b7b1d5f508"
      },
      "execution_count": null,
      "outputs": [
        {
          "output_type": "execute_result",
          "data": {
            "text/plain": [
              "==========================================================================================\n",
              "Layer (type:depth-idx)                   Output Shape              Param #\n",
              "==========================================================================================\n",
              "NeuralNetwork                            [64, 10]                  --\n",
              "├─Flatten: 1-1                           [64, 784]                 --\n",
              "├─Sequential: 1-2                        [64, 10]                  --\n",
              "│    └─Linear: 2-1                       [64, 512]                 401,920\n",
              "│    └─ReLU: 2-2                         [64, 512]                 --\n",
              "│    └─Linear: 2-3                       [64, 512]                 262,656\n",
              "│    └─ReLU: 2-4                         [64, 512]                 --\n",
              "│    └─Linear: 2-5                       [64, 10]                  5,130\n",
              "==========================================================================================\n",
              "Total params: 669,706\n",
              "Trainable params: 669,706\n",
              "Non-trainable params: 0\n",
              "Total mult-adds (M): 42.86\n",
              "==========================================================================================\n",
              "Input size (MB): 0.20\n",
              "Forward/backward pass size (MB): 0.53\n",
              "Params size (MB): 2.68\n",
              "Estimated Total Size (MB): 3.41\n",
              "=========================================================================================="
            ]
          },
          "metadata": {},
          "execution_count": 21
        }
      ]
    },
    {
      "cell_type": "markdown",
      "source": [
        "### Funcionando CPU  "
      ],
      "metadata": {
        "id": "zNpLtq4Zfbug"
      }
    },
    {
      "cell_type": "code",
      "source": [
        "device = \"cuda\" if torch.cuda.is_available() else \"cpu\"\n",
        "print(\"Usando\",device)"
      ],
      "metadata": {
        "colab": {
          "base_uri": "https://localhost:8080/"
        },
        "id": "xyYmv3NQdFOq",
        "outputId": "86659391-3848-41ca-dc5a-681d4597bbcb"
      },
      "execution_count": null,
      "outputs": [
        {
          "output_type": "stream",
          "name": "stdout",
          "text": [
            "Usando cuda\n"
          ]
        }
      ]
    },
    {
      "cell_type": "markdown",
      "source": [
        "## Treinando e Validando a Rede neural"
      ],
      "metadata": {
        "id": "UAQd4SoKfodp"
      }
    },
    {
      "cell_type": "code",
      "source": [
        "def train(dataloader, model, loss_fn, optimizer):\n",
        "  size= len(dataloader.dataset)\n",
        "  model.train()\n",
        "\n",
        "  for batch, (X,y) in enumerate(dataloader):\n",
        "    X, y = X.to(device), y.to(device)\n",
        "\n",
        "    pred = model(X)\n",
        "    loss = loss_fn(pred, y)\n",
        "    optimizer.zero_grad()\n",
        "    loss.backward()\n",
        "    optimizer.step()\n",
        "\n",
        "    if batch % 100 == 0:\n",
        "      loss, current = loss.item(), batch * len(X)\n",
        "      print(f\"Perda: {loss:>7f} [{current:>5d}/{size:>5d}]\")\n"
      ],
      "metadata": {
        "id": "R06yLbgfayU6"
      },
      "execution_count": null,
      "outputs": []
    },
    {
      "cell_type": "code",
      "source": [
        "def validacion(dataloader, model, loss_fn):\n",
        "  size = len(dataloader.dataset)\n",
        "  num_batches = len(dataloader)\n",
        "\n",
        "  model.eval()\n",
        "\n",
        "  val_loss = 0\n",
        "  correct = 0\n",
        "\n",
        "  with torch.no_grad():\n",
        "    for X, y in dataloader:\n",
        "      X, y = X.to(device), y.to(device)\n",
        "\n",
        "      pred = model(X)\n",
        "      val_loss += loss_fn(pred, y).item()\n",
        "      correct += (pred.argmax(1) == y).type(torch.float).sum().item()\n",
        "\n",
        "  val_loss /= num_batches\n",
        "  acuracia = correct / size\n",
        "\n",
        "  print(\"Informações na validação:\")\n",
        "  print(f\"Total de acertos: {int(correct)}\")\n",
        "  print(f\"Total de imagens: {size}\")\n",
        "  print(f\"Perda média: {val_loss:>8f}\")\n",
        "  print(f\"Acurácia: {(100 * acuracia):>0.1f}%\")"
      ],
      "metadata": {
        "id": "fMU1FpivgK1c"
      },
      "execution_count": null,
      "outputs": []
    },
    {
      "cell_type": "code",
      "source": [
        "model.to(device)\n",
        "funcao_perda = nn.CrossEntropyLoss()\n",
        "otimizador = torch.optim.SGD(model.parameters(),lr=TAXA_DE_APRENDIZAGEM)"
      ],
      "metadata": {
        "id": "OJlBgb2pjAQ8"
      },
      "execution_count": null,
      "outputs": []
    },
    {
      "cell_type": "markdown",
      "source": [
        "### Treinando a rede"
      ],
      "metadata": {
        "id": "X5BI1qrNjE3V"
      }
    },
    {
      "cell_type": "code",
      "source": [
        "for t in range(EPOCAS):\n",
        "  print(f\"----------------------\")\n",
        "  print(f\"Épocas {t+1} -------------------\")\n",
        "  train(train_dataloader,model,funcao_perda,otimizador)\n",
        "  validacion(validar_dataloader,model,funcao_perda)\n",
        "\n",
        "print(\"Treino finalizado.\")"
      ],
      "metadata": {
        "colab": {
          "base_uri": "https://localhost:8080/"
        },
        "id": "FSquMGuWiu1H",
        "outputId": "f66f99d2-8190-4eec-80dc-a99d00c03a83"
      },
      "execution_count": null,
      "outputs": [
        {
          "output_type": "stream",
          "name": "stdout",
          "text": [
            "----------------------\n",
            "Épocas 1 -------------------\n",
            "Perda: 2.307628 [    0/60000]\n",
            "Perda: 2.292539 [ 6400/60000]\n",
            "Perda: 2.281528 [12800/60000]\n",
            "Perda: 2.279777 [19200/60000]\n",
            "Perda: 2.254518 [25600/60000]\n",
            "Perda: 2.238886 [32000/60000]\n",
            "Perda: 2.242441 [38400/60000]\n",
            "Perda: 2.215949 [44800/60000]\n",
            "Perda: 2.214968 [51200/60000]\n",
            "Perda: 2.194673 [57600/60000]\n",
            "Informações na validação:\n",
            "Total de acertos: 4609\n",
            "Total de imagens: 10000\n",
            "Perda média: 2.181333\n",
            "Acurácia: 46.1%\n",
            "----------------------\n",
            "Épocas 2 -------------------\n",
            "Perda: 2.191429 [    0/60000]\n",
            "Perda: 2.178790 [ 6400/60000]\n",
            "Perda: 2.134908 [12800/60000]\n",
            "Perda: 2.146712 [19200/60000]\n",
            "Perda: 2.101393 [25600/60000]\n",
            "Perda: 2.057437 [32000/60000]\n",
            "Perda: 2.074632 [38400/60000]\n",
            "Perda: 2.013449 [44800/60000]\n",
            "Perda: 2.014309 [51200/60000]\n",
            "Perda: 1.955706 [57600/60000]\n",
            "Informações na validação:\n",
            "Total de acertos: 5714\n",
            "Total de imagens: 10000\n",
            "Perda média: 1.944964\n",
            "Acurácia: 57.1%\n",
            "----------------------\n",
            "Épocas 3 -------------------\n",
            "Perda: 1.978135 [    0/60000]\n",
            "Perda: 1.947530 [ 6400/60000]\n",
            "Perda: 1.844819 [12800/60000]\n",
            "Perda: 1.869978 [19200/60000]\n",
            "Perda: 1.770565 [25600/60000]\n",
            "Perda: 1.728519 [32000/60000]\n",
            "Perda: 1.735023 [38400/60000]\n",
            "Perda: 1.648347 [44800/60000]\n",
            "Perda: 1.661609 [51200/60000]\n",
            "Perda: 1.561198 [57600/60000]\n",
            "Informações na validação:\n",
            "Total de acertos: 5977\n",
            "Total de imagens: 10000\n",
            "Perda média: 1.569214\n",
            "Acurácia: 59.8%\n",
            "----------------------\n",
            "Épocas 4 -------------------\n",
            "Perda: 1.639210 [    0/60000]\n",
            "Perda: 1.594337 [ 6400/60000]\n",
            "Perda: 1.451942 [12800/60000]\n",
            "Perda: 1.507793 [19200/60000]\n",
            "Perda: 1.387043 [25600/60000]\n",
            "Perda: 1.393041 [32000/60000]\n",
            "Perda: 1.389509 [38400/60000]\n",
            "Perda: 1.326869 [44800/60000]\n",
            "Perda: 1.356657 [51200/60000]\n",
            "Perda: 1.254516 [57600/60000]\n",
            "Informações na validação:\n",
            "Total de acertos: 6284\n",
            "Total de imagens: 10000\n",
            "Perda média: 1.277645\n",
            "Acurácia: 62.8%\n",
            "----------------------\n",
            "Épocas 5 -------------------\n",
            "Perda: 1.362026 [    0/60000]\n",
            "Perda: 1.333342 [ 6400/60000]\n",
            "Perda: 1.176079 [12800/60000]\n",
            "Perda: 1.265551 [19200/60000]\n",
            "Perda: 1.140550 [25600/60000]\n",
            "Perda: 1.178321 [32000/60000]\n",
            "Perda: 1.178920 [38400/60000]\n",
            "Perda: 1.132793 [44800/60000]\n",
            "Perda: 1.169219 [51200/60000]\n",
            "Perda: 1.081843 [57600/60000]\n",
            "Informações na validação:\n",
            "Total de acertos: 6441\n",
            "Total de imagens: 10000\n",
            "Perda média: 1.101519\n",
            "Acurácia: 64.4%\n",
            "----------------------\n",
            "Épocas 6 -------------------\n",
            "Perda: 1.180687 [    0/60000]\n",
            "Perda: 1.172101 [ 6400/60000]\n",
            "Perda: 0.998534 [12800/60000]\n",
            "Perda: 1.120404 [19200/60000]\n",
            "Perda: 0.990492 [25600/60000]\n",
            "Perda: 1.038545 [32000/60000]\n",
            "Perda: 1.052117 [38400/60000]\n",
            "Perda: 1.012440 [44800/60000]\n",
            "Perda: 1.048957 [51200/60000]\n",
            "Perda: 0.976567 [57600/60000]\n",
            "Informações na validação:\n",
            "Total de acertos: 6567\n",
            "Total de imagens: 10000\n",
            "Perda média: 0.990240\n",
            "Acurácia: 65.7%\n",
            "----------------------\n",
            "Épocas 7 -------------------\n",
            "Perda: 1.056876 [    0/60000]\n",
            "Perda: 1.069493 [ 6400/60000]\n",
            "Perda: 0.878854 [12800/60000]\n",
            "Perda: 1.026630 [19200/60000]\n",
            "Perda: 0.897103 [25600/60000]\n",
            "Perda: 0.941458 [32000/60000]\n",
            "Perda: 0.970229 [38400/60000]\n",
            "Perda: 0.934673 [44800/60000]\n",
            "Perda: 0.965654 [51200/60000]\n",
            "Perda: 0.906847 [57600/60000]\n",
            "Informações na validação:\n",
            "Total de acertos: 6718\n",
            "Total de imagens: 10000\n",
            "Perda média: 0.915034\n",
            "Acurácia: 67.2%\n",
            "----------------------\n",
            "Épocas 8 -------------------\n",
            "Perda: 0.966738 [    0/60000]\n",
            "Perda: 0.998738 [ 6400/60000]\n",
            "Perda: 0.793771 [12800/60000]\n",
            "Perda: 0.961160 [19200/60000]\n",
            "Perda: 0.835330 [25600/60000]\n",
            "Perda: 0.870167 [32000/60000]\n",
            "Perda: 0.912770 [38400/60000]\n",
            "Perda: 0.882285 [44800/60000]\n",
            "Perda: 0.905161 [51200/60000]\n",
            "Perda: 0.856973 [57600/60000]\n",
            "Informações na validação:\n",
            "Total de acertos: 6859\n",
            "Total de imagens: 10000\n",
            "Perda média: 0.860941\n",
            "Acurácia: 68.6%\n",
            "----------------------\n",
            "Épocas 9 -------------------\n",
            "Perda: 0.897851 [    0/60000]\n",
            "Perda: 0.945853 [ 6400/60000]\n",
            "Perda: 0.730384 [12800/60000]\n",
            "Perda: 0.912537 [19200/60000]\n",
            "Perda: 0.791857 [25600/60000]\n",
            "Perda: 0.815854 [32000/60000]\n",
            "Perda: 0.869525 [38400/60000]\n",
            "Perda: 0.845628 [44800/60000]\n",
            "Perda: 0.859404 [51200/60000]\n",
            "Perda: 0.818857 [57600/60000]\n",
            "Informações na validação:\n",
            "Total de acertos: 6969\n",
            "Total de imagens: 10000\n",
            "Perda média: 0.819998\n",
            "Acurácia: 69.7%\n",
            "----------------------\n",
            "Épocas 10 -------------------\n",
            "Perda: 0.843037 [    0/60000]\n",
            "Perda: 0.903648 [ 6400/60000]\n",
            "Perda: 0.681075 [12800/60000]\n",
            "Perda: 0.875036 [19200/60000]\n",
            "Perda: 0.759347 [25600/60000]\n",
            "Perda: 0.773645 [32000/60000]\n",
            "Perda: 0.834875 [38400/60000]\n",
            "Perda: 0.818700 [44800/60000]\n",
            "Perda: 0.823693 [51200/60000]\n",
            "Perda: 0.788234 [57600/60000]\n",
            "Informações na validação:\n",
            "Total de acertos: 7070\n",
            "Total de imagens: 10000\n",
            "Perda média: 0.787598\n",
            "Acurácia: 70.7%\n",
            "Treino finalizado.\n"
          ]
        }
      ]
    }
  ],
  "metadata": {
    "colab": {
      "toc_visible": true,
      "provenance": [],
      "gpuType": "T4",
      "authorship_tag": "ABX9TyNL5sW9l/Moz+8/qgcWUktv",
      "include_colab_link": true
    },
    "kernelspec": {
      "display_name": "Python 3",
      "name": "python3"
    },
    "language_info": {
      "name": "python"
    },
    "accelerator": "GPU",
    "gpuClass": "standard"
  },
  "nbformat": 4,
  "nbformat_minor": 0
}